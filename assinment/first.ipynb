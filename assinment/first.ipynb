{
 "cells": [
  {
   "cell_type": "code",
   "execution_count": 1,
   "id": "60fa6569",
   "metadata": {},
   "outputs": [
    {
     "name": "stdout",
     "output_type": "stream",
     "text": [
      "enter number 1: 50\n",
      "enter number 2: 100\n",
      "50 + 100 = 150\n"
     ]
    }
   ],
   "source": [
    "No1 = int(input(\"enter number 1: \"))\n",
    "No2 = int(input(\"enter number 2: \"))\n",
    "addition = No1 + No2\n",
    "print(\"{0} + {1} = {2}\" .format(No1,No2,addition))\n",
    "\n"
   ]
  },
  {
   "cell_type": "code",
   "execution_count": 16,
   "id": "6132aa1c",
   "metadata": {},
   "outputs": [
    {
     "name": "stdout",
     "output_type": "stream",
     "text": [
      "enter comp no: 100\n",
      "enter bio no: 70\n",
      "enter Math no: 50\n",
      "enter Phy no: 60\n",
      "enter Urdu no: 50\n",
      "A\n"
     ]
    }
   ],
   "source": [
    "C = int(input(\"enter comp no: \"))\n",
    "b = int(input(\"enter bio no: \"))\n",
    "M = int(input(\"enter Math no: \"))\n",
    "P = int(input(\"enter Phy no: \"))\n",
    "U = int(input(\"enter Urdu no: \"))\n",
    "total = C+b+M+P+U\n",
    "per = total/5*100\n",
    "if per>=85 :\n",
    "    print (\"A\")\n",
    "elif per>=75 :\n",
    "    print (\"B\")\n",
    "elif per>=50 :\n",
    "    grade= \"C\"\n",
    "elif per>=30 :\n",
    "    grade= \"D\"\n",
    "else: \n",
    "    grade =\"fail\"\n",
    "    \n",
    "    print (\"total marks of 5 subject : \" , total)\n",
    "    print (\"percentage of  subjects : \" , per)\n",
    "    print (\"Grade of subject : \" , grade)\n",
    "    \n",
    "    \n",
    "    \n",
    "    \n"
   ]
  },
  {
   "cell_type": "code",
   "execution_count": 18,
   "id": "cf9fd3ef",
   "metadata": {},
   "outputs": [
    {
     "name": "stdout",
     "output_type": "stream",
     "text": [
      "enter any number : 35\n",
      "number is odd : 35\n"
     ]
    }
   ],
   "source": [
    "number = int(input(\"enter any number : \"))\n",
    "reminder = number % 2\n",
    "if (reminder == 0):\n",
    "    print (\"number is even :\" , number)\n",
    "else:\n",
    "    print (\"number is odd :\" , number)\n"
   ]
  },
  {
   "cell_type": "code",
   "execution_count": 20,
   "id": "4ebcddf7",
   "metadata": {},
   "outputs": [
    {
     "ename": "SyntaxError",
     "evalue": "invalid syntax (<ipython-input-20-2918a40c4293>, line 1)",
     "output_type": "error",
     "traceback": [
      "\u001b[1;36m  File \u001b[1;32m\"<ipython-input-20-2918a40c4293>\"\u001b[1;36m, line \u001b[1;32m1\u001b[0m\n\u001b[1;33m    1st = (\"pyt\",6,9,10,8)\u001b[0m\n\u001b[1;37m     ^\u001b[0m\n\u001b[1;31mSyntaxError\u001b[0m\u001b[1;31m:\u001b[0m invalid syntax\n"
     ]
    }
   ],
   "source": [
    "1st = (\"pyt\",6,9,10,8)\n",
    "count = 0\n",
    "for i in 1st:\n",
    "    count = count+1\n",
    "    print (count)\n",
    "    print()\n",
    "    print(Len(1st))"
   ]
  },
  {
   "cell_type": "code",
   "execution_count": 21,
   "id": "7ba88793",
   "metadata": {},
   "outputs": [
    {
     "name": "stdout",
     "output_type": "stream",
     "text": [
      "5\n"
     ]
    }
   ],
   "source": [
    "L = (\"irfan\", 2, 4, 5, 8)\n",
    "print(len(L))"
   ]
  },
  {
   "cell_type": "code",
   "execution_count": 25,
   "id": "f4e146a9",
   "metadata": {},
   "outputs": [
    {
     "name": "stdout",
     "output_type": "stream",
     "text": [
      "enter the number :5\n",
      "enter number: 6\n",
      "[6]\n",
      "6\n",
      "enter number: 7\n",
      "[6, 7]\n",
      "7\n",
      "enter number: 8\n",
      "[6, 7, 8]\n",
      "8\n",
      "enter number: 8\n",
      "[6, 7, 8, 8]\n",
      "8\n",
      "enter number: 8\n",
      "[6, 7, 8, 8, 8]\n",
      "8\n"
     ]
    }
   ],
   "source": [
    "a = []\n",
    "n= int(input(\"enter the number :\"))\n",
    "for i in range (1, n+1):\n",
    "    b= int(input(\"enter number: \"))\n",
    "    a.append(b)\n",
    "    print (a)\n",
    "    Largest_number= max(a)\n",
    "    print (Largest_number)"
   ]
  },
  {
   "cell_type": "code",
   "execution_count": 26,
   "id": "629cde3f",
   "metadata": {},
   "outputs": [
    {
     "name": "stdout",
     "output_type": "stream",
     "text": [
      "[1, 1, 2, 3]\n"
     ]
    }
   ],
   "source": [
    "a = [1, 1, 2, 3, 5, 8, 13, 21, 34, 55, 89]\n",
    "print ([x for x in a if x<5])"
   ]
  },
  {
   "cell_type": "code",
   "execution_count": null,
   "id": "2c9a5190",
   "metadata": {},
   "outputs": [],
   "source": []
  }
 ],
 "metadata": {
  "kernelspec": {
   "display_name": "Python 3",
   "language": "python",
   "name": "python3"
  },
  "language_info": {
   "codemirror_mode": {
    "name": "ipython",
    "version": 3
   },
   "file_extension": ".py",
   "mimetype": "text/x-python",
   "name": "python",
   "nbconvert_exporter": "python",
   "pygments_lexer": "ipython3",
   "version": "3.8.8"
  }
 },
 "nbformat": 4,
 "nbformat_minor": 5
}
