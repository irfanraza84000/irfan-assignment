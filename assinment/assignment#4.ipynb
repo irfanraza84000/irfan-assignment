{
 "cells": [
  {
   "cell_type": "code",
   "execution_count": 4,
   "id": "2dc1806f",
   "metadata": {},
   "outputs": [
    {
     "name": "stdout",
     "output_type": "stream",
     "text": [
      "Twinkle, twinkle, little star, \n",
      " \tHow I wonder what you are! \n",
      " \t\tUp above the world so high,\n",
      " \t\tLike a diamond in the sky.\n",
      "Twinkle, twinkle, little star,\n",
      " \tHow I wonder what you are\n"
     ]
    }
   ],
   "source": [
    "\"\"\" Write a Python program to print the following string in a specific format (see the\n",
    "          output).\"\"\"\n",
    "\n",
    "print (\"Twinkle, twinkle, little star, \\n \\tHow I wonder what you are! \\n \\t\\tUp above the world so high,\\n \\t\\tLike a diamond in the sky.\\nTwinkle, twinkle, little star,\\n \\tHow I wonder what you are\")"
   ]
  },
  {
   "cell_type": "code",
   "execution_count": 5,
   "id": "88c5fd5f",
   "metadata": {},
   "outputs": [
    {
     "name": "stdout",
     "output_type": "stream",
     "text": [
      "python version\n",
      "3.8.8 (default, Apr 13 2021, 15:08:03) [MSC v.1916 64 bit (AMD64)]\n",
      "version info.\n",
      "sys.version_info(major=3, minor=8, micro=8, releaselevel='final', serial=0)\n"
     ]
    }
   ],
   "source": [
    "#Write a Python program to get the Python version you are using\n",
    "import sys\n",
    "print (\"python version\")\n",
    "print (sys.version)\n",
    "print (\"version info.\")\n",
    "print (sys.version_info)"
   ]
  },
  {
   "cell_type": "code",
   "execution_count": 6,
   "id": "38bcc9bd",
   "metadata": {},
   "outputs": [
    {
     "name": "stdout",
     "output_type": "stream",
     "text": [
      "current date and time is:\n",
      "21-10-25 05:43:43\n"
     ]
    }
   ],
   "source": [
    "#Write a Python program to display the current date and time.\n",
    "import datetime\n",
    "now = datetime.datetime.now()\n",
    "print (\"current date and time is:\")\n",
    "print (now.strftime(\"%y-%m-%d %H:%M:%S\"))"
   ]
  },
  {
   "cell_type": "code",
   "execution_count": 7,
   "id": "793ef7dc",
   "metadata": {},
   "outputs": [
    {
     "name": "stdout",
     "output_type": "stream",
     "text": [
      "input radius20\n",
      "area circle 1256.0\n"
     ]
    }
   ],
   "source": [
    "\"\"\"\n",
    "Write a Python program which accepts the radius of a circle from the user and compute\n",
    "the area.\n",
    "\"\"\"\n",
    "radius = int(input(\"input radius\"))\n",
    "area= 3.14*radius**2\n",
    "print(\"area circle\" , area)"
   ]
  },
  {
   "cell_type": "code",
   "execution_count": 8,
   "id": "fd4ad0b0",
   "metadata": {},
   "outputs": [
    {
     "name": "stdout",
     "output_type": "stream",
     "text": [
      "enter your first name: irfan\n",
      "enter your last name:raza\n",
      "Aslam o alikum :raza\tirfan\n"
     ]
    }
   ],
   "source": [
    "\"\"\"\n",
    "Write a Python program which accepts the user's first and last name and print them in\n",
    "reverse order with a space between them.\n",
    "\"\"\"\n",
    "firstname = input(\"enter your first name: \" )\n",
    "lastname  = input(\"enter your last name:\")\n",
    "print(\"Aslam o alikum :\" + lastname + \"\\t\" +firstname)"
   ]
  },
  {
   "cell_type": "code",
   "execution_count": 9,
   "id": "1a076aad",
   "metadata": {},
   "outputs": [
    {
     "name": "stdout",
     "output_type": "stream",
     "text": [
      "enter number 1: 40\n",
      "enter number 2: 20\n",
      "40 + 20 = 60\n"
     ]
    }
   ],
   "source": [
    "#Write a python program which takes two inputs from user and print them addition\n",
    "No1 = int(input(\"enter number 1: \"))\n",
    "No2 = int(input(\"enter number 2: \"))\n",
    "addition = No1 + No2\n",
    "print(\"{0} + {1} = {2}\" .format(No1,No2,addition))"
   ]
  },
  {
   "cell_type": "code",
   "execution_count": 10,
   "id": "a4b06c6d",
   "metadata": {},
   "outputs": [
    {
     "name": "stdout",
     "output_type": "stream",
     "text": [
      "enter comp no: 60\n",
      "enter bio no: 80\n",
      "enter Math no: 40\n",
      "enter Phy no: 30\n",
      "enter Urdu no: 100\n",
      "A\n"
     ]
    }
   ],
   "source": [
    "\"\"\"\n",
    "Write a program which takes 5 inputs from user for different subject’s marks, total it\n",
    "and generate mark sheet using grades ?\n",
    "\"\"\"\n",
    "C = int(input(\"enter comp no: \"))\n",
    "b = int(input(\"enter bio no: \"))\n",
    "M = int(input(\"enter Math no: \"))\n",
    "P = int(input(\"enter Phy no: \"))\n",
    "U = int(input(\"enter Urdu no: \"))\n",
    "total = C+b+M+P+U\n",
    "per = total/5*100\n",
    "if per>=85 :\n",
    "    print (\"A\")\n",
    "elif per>=75 :\n",
    "    print (\"B\")\n",
    "elif per>=50 :\n",
    "    grade= \"C\"\n",
    "elif per>=30 :\n",
    "    grade= \"D\"\n",
    "else: \n",
    "    grade =\"fail\"\n",
    "    \n",
    "    print (\"total marks of 5 subject : \" , total)\n",
    "    print (\"percentage of  subjects : \" , per)\n",
    "    print (\"Grade of subject : \" , grade)"
   ]
  },
  {
   "cell_type": "code",
   "execution_count": 11,
   "id": "c19bb2cc",
   "metadata": {},
   "outputs": [
    {
     "name": "stdout",
     "output_type": "stream",
     "text": [
      "enter any number : 35\n",
      "number is odd : 35\n"
     ]
    }
   ],
   "source": [
    "\"\"\"\n",
    "Write a program which take input from user and identify that the given number is even\n",
    "or odd?\n",
    "\"\"\"\n",
    "number = int(input(\"enter any number : \"))\n",
    "reminder = number % 2\n",
    "if (reminder == 0):\n",
    "    print (\"number is even :\" , number)\n",
    "else:\n",
    "    print (\"number is odd :\" , number)\n"
   ]
  },
  {
   "cell_type": "code",
   "execution_count": 12,
   "id": "55960e1a",
   "metadata": {},
   "outputs": [
    {
     "name": "stdout",
     "output_type": "stream",
     "text": [
      "5\n"
     ]
    }
   ],
   "source": [
    "#Write a program which print the length of the list?\n",
    "L = (\"irfan\", 2, 4, 5, 8)\n",
    "print(len(L))"
   ]
  },
  {
   "cell_type": "code",
   "execution_count": null,
   "id": "c8f83c4a",
   "metadata": {},
   "outputs": [
    {
     "name": "stdout",
     "output_type": "stream",
     "text": [
      "enter the number :50\n",
      "enter number: 80\n",
      "[80]\n",
      "80\n",
      "enter number: 35\n",
      "[80, 35]\n",
      "80\n",
      "enter number: 3\n",
      "[80, 35, 3]\n",
      "80\n",
      "enter number: 2\n",
      "[80, 35, 3, 2]\n",
      "80\n",
      "enter number: 10\n",
      "[80, 35, 3, 2, 10]\n",
      "80\n"
     ]
    }
   ],
   "source": [
    "#11.Write a Python program to get the largest number from a numeric list.\n",
    "a = []\n",
    "n= int(input(\"enter the number :\"))\n",
    "for i in range (1, n+1):\n",
    "    b= int(input(\"enter number: \"))\n",
    "    a.append(b)\n",
    "    print (a)\n",
    "    Largest_number= max(a)\n",
    "    print (Largest_number)\n"
   ]
  },
  {
   "cell_type": "code",
   "execution_count": null,
   "id": "458286ca",
   "metadata": {},
   "outputs": [],
   "source": [
    " # 12. Take a list, say for example this one:\n",
    "a=  [1, 1, 2, 3, 5, 8, 13, 21, 34, 55, 89]\n",
    " print([x for x in a if x<5])"
   ]
  },
  {
   "cell_type": "code",
   "execution_count": null,
   "id": "1fbd621e",
   "metadata": {},
   "outputs": [],
   "source": []
  },
  {
   "cell_type": "code",
   "execution_count": null,
   "id": "4e8b121e",
   "metadata": {},
   "outputs": [],
   "source": []
  }
 ],
 "metadata": {
  "kernelspec": {
   "display_name": "Python 3",
   "language": "python",
   "name": "python3"
  },
  "language_info": {
   "codemirror_mode": {
    "name": "ipython",
    "version": 3
   },
   "file_extension": ".py",
   "mimetype": "text/x-python",
   "name": "python",
   "nbconvert_exporter": "python",
   "pygments_lexer": "ipython3",
   "version": "3.8.8"
  }
 },
 "nbformat": 4,
 "nbformat_minor": 5
}
